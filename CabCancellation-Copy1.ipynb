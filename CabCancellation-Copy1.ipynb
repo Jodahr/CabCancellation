{
 "cells": [
  {
   "cell_type": "markdown",
   "metadata": {},
   "source": [
    "# Predicting Cab Cancellation\n",
    "This dataset is taken from the kaggle competetion https://inclass.kaggle.com/c/predicting-cab-booking-cancellations/data"
   ]
  },
  {
   "cell_type": "code",
   "execution_count": null,
   "metadata": {
    "collapsed": true
   },
   "outputs": [],
   "source": [
    "# load packages\n",
    "import pandas as pd\n",
    "import numpy as np\n",
    "from matplotlib import pyplot as plt"
   ]
  },
  {
   "cell_type": "code",
   "execution_count": null,
   "metadata": {},
   "outputs": [],
   "source": [
    "df = pd.read_csv(\"data/Kaggle_YourCabs_training.csv\")\n",
    "df.head()"
   ]
  },
  {
   "cell_type": "markdown",
   "metadata": {},
   "source": [
    "## Explanation to the different attributes\n",
    "\n",
    "* **id** - booking ID\n",
    "* **user_id** - the ID of the customer (based on mobile number)\n",
    "* **vehicle_model_id** - vehicle model type.\n",
    "* **package_id** - type of package (1=4hrs & 40kms, 2=8hrs & 80kms, 3=6hrs & 60kms, 4= 10hrs & 100kms, 5=5hrs & 50kms, 6=3hrs & 30kms, 7=12hrs & 120kms)\n",
    "* **travel_type_id** - type of travel (1=long distance, 2= point to point, 3= hourly rental).\n",
    "* **from_area_id** - unique identifier of area. Applicable only for point-to-point travel and packages\n",
    "* **to_area_id** - unique identifier of area. Applicable only for point-to-point travel\n",
    "* **from_city_id** - unique identifier of city\n",
    "* **to_city_id** - unique identifier of city (only for intercity)\n",
    "* **from_date** - time stamp of requested trip start\n",
    "* **to_date** - time stamp of trip end\n",
    "* **online_booking** - if booking was done on desktop website\n",
    "* **mobile_site_booking** - if booking was done on mobile website\n",
    "* **booking_created** - time stamp of booking\n",
    "* **from_lat** - latitude of from area\n",
    "* **from_long** -  longitude of from area\n",
    "* **to_lat** - latitude of to area\n",
    "* **to_long** - longitude of to area\n",
    "* **Car_Cancellation** (available only in training data) - whether the booking was cancelled (1) or not (0) due to unavailability of a car.\n",
    "* **Cost_of_error** (available only in training data) - the cost incurred if the booking is misclassified. For an un-cancelled booking, the cost of misclassificaiton is 1. For a cancelled booking, the cost is a function of the cancellation time relative to the trip start time (see Evaluation Page).\n",
    "\n"
   ]
  },
  {
   "cell_type": "code",
   "execution_count": null,
   "metadata": {},
   "outputs": [],
   "source": [
    "df.describe()"
   ]
  },
  {
   "cell_type": "code",
   "execution_count": null,
   "metadata": {},
   "outputs": [],
   "source": [
    "#plt.subplots_adjust(left=None, bottom=0.5, right=None, top=None, wspace=None, hspace=1.5)\n",
    "fig = df.hist(layout=(8,3), figsize=(15,15))\n",
    "sp1 = "
   ]
  },
  {
   "cell_type": "code",
   "execution_count": null,
   "metadata": {},
   "outputs": [],
   "source": [
    "plt.show()"
   ]
  },
  {
   "cell_type": "code",
   "execution_count": null,
   "metadata": {
    "collapsed": true
   },
   "outputs": [],
   "source": []
  }
 ],
 "metadata": {
  "kernelspec": {
   "display_name": "Python 3",
   "language": "python",
   "name": "python3"
  },
  "language_info": {
   "codemirror_mode": {
    "name": "ipython",
    "version": 3
   },
   "file_extension": ".py",
   "mimetype": "text/x-python",
   "name": "python",
   "nbconvert_exporter": "python",
   "pygments_lexer": "ipython3",
   "version": "3.6.1"
  }
 },
 "nbformat": 4,
 "nbformat_minor": 2
}
