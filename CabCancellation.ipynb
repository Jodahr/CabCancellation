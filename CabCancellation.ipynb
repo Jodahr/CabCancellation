{
 "cells": [
  {
   "cell_type": "markdown",
   "metadata": {},
   "source": [
    "# Predicting Cab Cancellation\n",
    "This dataset is taken from the kaggle competetion https://inclass.kaggle.com/c/predicting-cab-booking-cancellations/data"
   ]
  },
  {
   "cell_type": "code",
   "execution_count": 2,
   "metadata": {
    "code_folding": [
     0
    ],
    "collapsed": true
   },
   "outputs": [],
   "source": [
    "# load packages\n",
    "import pandas as pd\n",
    "import numpy as np\n",
    "from matplotlib import pyplot as plt\n",
    "import seaborn as sns\n",
    "import matplotlib\n",
    "\n",
    "from sklearn.model_selection import train_test_split\n",
    "from imblearn.pipeline import Pipeline\n",
    "from sklearn.base import BaseEstimator, TransformerMixin\n",
    "\n",
    "# metrics\n",
    "from sklearn.metrics import roc_curve\n",
    "from sklearn.metrics import auc\n",
    "from sklearn.metrics import confusion_matrix\n",
    "from sklearn.metrics import precision_recall_curve\n",
    "\n",
    "# custom pipeline classes\n",
    "import pandas_pipeline_classes as pdpc\n",
    "\n",
    "# to compute the direct distance\n",
    "from geographiclib.geodesic import Geodesic\n",
    "import math\n",
    "geod = Geodesic.WGS84  # define the WGS84 ellipsoid\n",
    "\n",
    "# matplotlib settings\n",
    "matplotlib.style.use('seaborn')\n",
    "\n",
    "# to import/export models\n",
    "from sklearn.externals import joblib\n",
    "import dill\n",
    "\n",
    "# Setting the ast_node_interactivity to \"all\" will print\n",
    "# each statement, not only the last one of a cell\n",
    "from IPython.core.interactiveshell import InteractiveShell\n",
    "InteractiveShell.ast_node_interactivity = \"all\""
   ]
  },
  {
   "cell_type": "markdown",
   "metadata": {},
   "source": [
    "## Load Data"
   ]
  },
  {
   "cell_type": "code",
   "execution_count": 3,
   "metadata": {},
   "outputs": [
    {
     "data": {
      "text/html": [
       "<div>\n",
       "<style>\n",
       "    .dataframe thead tr:only-child th {\n",
       "        text-align: right;\n",
       "    }\n",
       "\n",
       "    .dataframe thead th {\n",
       "        text-align: left;\n",
       "    }\n",
       "\n",
       "    .dataframe tbody tr th {\n",
       "        vertical-align: top;\n",
       "    }\n",
       "</style>\n",
       "<table border=\"1\" class=\"dataframe\">\n",
       "  <thead>\n",
       "    <tr style=\"text-align: right;\">\n",
       "      <th></th>\n",
       "      <th>id</th>\n",
       "      <th>user_id</th>\n",
       "      <th>vehicle_model_id</th>\n",
       "      <th>package_id</th>\n",
       "      <th>travel_type_id</th>\n",
       "      <th>from_area_id</th>\n",
       "      <th>to_area_id</th>\n",
       "      <th>from_city_id</th>\n",
       "      <th>to_city_id</th>\n",
       "      <th>from_date</th>\n",
       "      <th>to_date</th>\n",
       "      <th>online_booking</th>\n",
       "      <th>mobile_site_booking</th>\n",
       "      <th>booking_created</th>\n",
       "      <th>from_lat</th>\n",
       "      <th>from_long</th>\n",
       "      <th>to_lat</th>\n",
       "      <th>to_long</th>\n",
       "      <th>Car_Cancellation</th>\n",
       "      <th>Cost_of_error</th>\n",
       "    </tr>\n",
       "  </thead>\n",
       "  <tbody>\n",
       "    <tr>\n",
       "      <th>0</th>\n",
       "      <td>132512</td>\n",
       "      <td>22177</td>\n",
       "      <td>28</td>\n",
       "      <td>NaN</td>\n",
       "      <td>2</td>\n",
       "      <td>83.0</td>\n",
       "      <td>448.0</td>\n",
       "      <td>NaN</td>\n",
       "      <td>NaN</td>\n",
       "      <td>1/1/2013 2:00</td>\n",
       "      <td>NaN</td>\n",
       "      <td>0</td>\n",
       "      <td>0</td>\n",
       "      <td>1/1/2013 1:39</td>\n",
       "      <td>12.924150</td>\n",
       "      <td>77.672290</td>\n",
       "      <td>12.927320</td>\n",
       "      <td>77.635750</td>\n",
       "      <td>0</td>\n",
       "      <td>1.0</td>\n",
       "    </tr>\n",
       "    <tr>\n",
       "      <th>1</th>\n",
       "      <td>132513</td>\n",
       "      <td>21413</td>\n",
       "      <td>12</td>\n",
       "      <td>NaN</td>\n",
       "      <td>2</td>\n",
       "      <td>1010.0</td>\n",
       "      <td>540.0</td>\n",
       "      <td>NaN</td>\n",
       "      <td>NaN</td>\n",
       "      <td>1/1/2013 9:00</td>\n",
       "      <td>NaN</td>\n",
       "      <td>0</td>\n",
       "      <td>0</td>\n",
       "      <td>1/1/2013 2:25</td>\n",
       "      <td>12.966910</td>\n",
       "      <td>77.749350</td>\n",
       "      <td>12.927680</td>\n",
       "      <td>77.626640</td>\n",
       "      <td>0</td>\n",
       "      <td>1.0</td>\n",
       "    </tr>\n",
       "    <tr>\n",
       "      <th>2</th>\n",
       "      <td>132514</td>\n",
       "      <td>22178</td>\n",
       "      <td>12</td>\n",
       "      <td>NaN</td>\n",
       "      <td>2</td>\n",
       "      <td>1301.0</td>\n",
       "      <td>1034.0</td>\n",
       "      <td>NaN</td>\n",
       "      <td>NaN</td>\n",
       "      <td>1/1/2013 3:30</td>\n",
       "      <td>NaN</td>\n",
       "      <td>0</td>\n",
       "      <td>0</td>\n",
       "      <td>1/1/2013 3:08</td>\n",
       "      <td>12.937222</td>\n",
       "      <td>77.626915</td>\n",
       "      <td>13.047926</td>\n",
       "      <td>77.597766</td>\n",
       "      <td>0</td>\n",
       "      <td>1.0</td>\n",
       "    </tr>\n",
       "    <tr>\n",
       "      <th>3</th>\n",
       "      <td>132515</td>\n",
       "      <td>13034</td>\n",
       "      <td>12</td>\n",
       "      <td>NaN</td>\n",
       "      <td>2</td>\n",
       "      <td>768.0</td>\n",
       "      <td>398.0</td>\n",
       "      <td>NaN</td>\n",
       "      <td>NaN</td>\n",
       "      <td>1/1/2013 5:45</td>\n",
       "      <td>NaN</td>\n",
       "      <td>0</td>\n",
       "      <td>0</td>\n",
       "      <td>1/1/2013 4:39</td>\n",
       "      <td>12.989990</td>\n",
       "      <td>77.553320</td>\n",
       "      <td>12.971430</td>\n",
       "      <td>77.639140</td>\n",
       "      <td>0</td>\n",
       "      <td>1.0</td>\n",
       "    </tr>\n",
       "    <tr>\n",
       "      <th>4</th>\n",
       "      <td>132517</td>\n",
       "      <td>22180</td>\n",
       "      <td>12</td>\n",
       "      <td>NaN</td>\n",
       "      <td>2</td>\n",
       "      <td>1365.0</td>\n",
       "      <td>849.0</td>\n",
       "      <td>NaN</td>\n",
       "      <td>NaN</td>\n",
       "      <td>1/1/2013 9:00</td>\n",
       "      <td>NaN</td>\n",
       "      <td>0</td>\n",
       "      <td>0</td>\n",
       "      <td>1/1/2013 7:53</td>\n",
       "      <td>12.845653</td>\n",
       "      <td>77.677925</td>\n",
       "      <td>12.954340</td>\n",
       "      <td>77.600720</td>\n",
       "      <td>0</td>\n",
       "      <td>1.0</td>\n",
       "    </tr>\n",
       "  </tbody>\n",
       "</table>\n",
       "</div>"
      ],
      "text/plain": [
       "       id  user_id  vehicle_model_id  package_id  travel_type_id  \\\n",
       "0  132512    22177                28         NaN               2   \n",
       "1  132513    21413                12         NaN               2   \n",
       "2  132514    22178                12         NaN               2   \n",
       "3  132515    13034                12         NaN               2   \n",
       "4  132517    22180                12         NaN               2   \n",
       "\n",
       "   from_area_id  to_area_id  from_city_id  to_city_id      from_date  to_date  \\\n",
       "0          83.0       448.0           NaN         NaN  1/1/2013 2:00      NaN   \n",
       "1        1010.0       540.0           NaN         NaN  1/1/2013 9:00      NaN   \n",
       "2        1301.0      1034.0           NaN         NaN  1/1/2013 3:30      NaN   \n",
       "3         768.0       398.0           NaN         NaN  1/1/2013 5:45      NaN   \n",
       "4        1365.0       849.0           NaN         NaN  1/1/2013 9:00      NaN   \n",
       "\n",
       "   online_booking  mobile_site_booking booking_created   from_lat  from_long  \\\n",
       "0               0                    0   1/1/2013 1:39  12.924150  77.672290   \n",
       "1               0                    0   1/1/2013 2:25  12.966910  77.749350   \n",
       "2               0                    0   1/1/2013 3:08  12.937222  77.626915   \n",
       "3               0                    0   1/1/2013 4:39  12.989990  77.553320   \n",
       "4               0                    0   1/1/2013 7:53  12.845653  77.677925   \n",
       "\n",
       "      to_lat    to_long  Car_Cancellation  Cost_of_error  \n",
       "0  12.927320  77.635750                 0            1.0  \n",
       "1  12.927680  77.626640                 0            1.0  \n",
       "2  13.047926  77.597766                 0            1.0  \n",
       "3  12.971430  77.639140                 0            1.0  \n",
       "4  12.954340  77.600720                 0            1.0  "
      ]
     },
     "execution_count": 3,
     "metadata": {},
     "output_type": "execute_result"
    },
    {
     "name": "stdout",
     "output_type": "stream",
     "text": [
      "<class 'pandas.core.frame.DataFrame'>\n",
      "RangeIndex: 43431 entries, 0 to 43430\n",
      "Data columns (total 20 columns):\n",
      "id                     43431 non-null int64\n",
      "user_id                43431 non-null int64\n",
      "vehicle_model_id       43431 non-null int64\n",
      "package_id             7550 non-null float64\n",
      "travel_type_id         43431 non-null int64\n",
      "from_area_id           43343 non-null float64\n",
      "to_area_id             34293 non-null float64\n",
      "from_city_id           16345 non-null float64\n",
      "to_city_id             1588 non-null float64\n",
      "from_date              43431 non-null object\n",
      "to_date                25541 non-null float64\n",
      "online_booking         43431 non-null int64\n",
      "mobile_site_booking    43431 non-null int64\n",
      "booking_created        43431 non-null object\n",
      "from_lat               43338 non-null float64\n",
      "from_long              43338 non-null float64\n",
      "to_lat                 34293 non-null float64\n",
      "to_long                34293 non-null float64\n",
      "Car_Cancellation       43431 non-null int64\n",
      "Cost_of_error          43431 non-null float64\n",
      "dtypes: float64(11), int64(7), object(2)\n",
      "memory usage: 6.6+ MB\n"
     ]
    },
    {
     "data": {
      "text/plain": [
       "id                     43431\n",
       "user_id                22267\n",
       "vehicle_model_id          27\n",
       "package_id                 7\n",
       "travel_type_id             3\n",
       "from_area_id             598\n",
       "to_area_id               568\n",
       "from_city_id               3\n",
       "to_city_id               116\n",
       "from_date              20377\n",
       "to_date                22151\n",
       "online_booking             2\n",
       "mobile_site_booking        2\n",
       "booking_created        39349\n",
       "from_lat                 466\n",
       "from_long                462\n",
       "to_lat                   450\n",
       "to_long                  447\n",
       "Car_Cancellation           2\n",
       "Cost_of_error             70\n",
       "dtype: int64"
      ]
     },
     "execution_count": 3,
     "metadata": {},
     "output_type": "execute_result"
    }
   ],
   "source": [
    "df = pd.read_csv(\"data/Kaggle_YourCabs_training.csv\")\n",
    "df.head()\n",
    "df.info()\n",
    "df.nunique()\n",
    "df.describe()"
   ]
  },
  {
   "cell_type": "markdown",
   "metadata": {},
   "source": [
    "## Explanation to the different attributes\n",
    "\n",
    "* **id** - booking ID\n",
    "* **user_id** - the ID of the customer (based on mobile number)\n",
    "* **vehicle_model_id** - vehicle model type.\n",
    "* **package_id** - type of package (1=4hrs & 40kms, 2=8hrs & 80kms, 3=6hrs & 60kms, 4= 10hrs & 100kms, 5=5hrs & 50kms, 6=3hrs & 30kms, 7=12hrs & 120kms)\n",
    "* **travel_type_id** - type of travel (1=long distance, 2= point to point, 3= hourly rental).\n",
    "* **from_area_id** - unique identifier of area. Applicable only for point-to-point travel and packages\n",
    "* **to_area_id** - unique identifier of area. Applicable only for point-to-point travel\n",
    "* **from_city_id** - unique identifier of city\n",
    "* **to_city_id** - unique identifier of city (only for intercity)\n",
    "* **from_date** - time stamp of requested trip start\n",
    "* **to_date** - time stamp of trip end\n",
    "* **online_booking** - if booking was done on desktop website\n",
    "* **mobile_site_booking** - if booking was done on mobile website\n",
    "* **booking_created** - time stamp of booking\n",
    "* **from_lat** - latitude of from area\n",
    "* **from_long** -  longitude of from area\n",
    "* **to_lat** - latitude of to area\n",
    "* **to_long** - longitude of to area\n",
    "* **Car_Cancellation** (available only in training data) - whether the booking was cancelled (1) or not (0) due to unavailability of a car.\n",
    "* **Cost_of_error** (available only in training data) - the cost incurred if the booking is misclassified. For an un-cancelled booking, the cost of misclassificaiton is 1. For a cancelled booking, the cost is a function of the cancellation time relative to the trip start time (see Evaluation Page).\n",
    "\n",
    "A lot of missing values in **to_date, to_lat, to_long, from_city_id, to_city_id, to_area_id, package_id**"
   ]
  },
  {
   "cell_type": "markdown",
   "metadata": {},
   "source": [
    "## Create Preprocessing Pipelines"
   ]
  },
  {
   "cell_type": "code",
   "execution_count": 4,
   "metadata": {
    "code_folding": [],
    "collapsed": true
   },
   "outputs": [],
   "source": [
    "# copy data\n",
    "data = df.copy()"
   ]
  },
  {
   "cell_type": "code",
   "execution_count": 296,
   "metadata": {
    "collapsed": true
   },
   "outputs": [],
   "source": [
    "X, y = data.drop('Car_Cancellation', axis=1), data['Car_Cancellation']\n",
    "X_train, X_test, y_train, y_test = train_test_split( X, y, test_size=0.2, random_state=42)"
   ]
  },
  {
   "cell_type": "code",
   "execution_count": 6,
   "metadata": {
    "collapsed": true
   },
   "outputs": [],
   "source": [
    "# list of features\n",
    "temp_features = ['from_date', 'booking_created']\n",
    "dist_features = ['from_lat', 'from_long', 'to_lat', 'to_long']\n",
    "rem_features = ['online_booking', 'mobile_site_booking', 'travel_type_id', 'from_area_id']"
   ]
  },
  {
   "cell_type": "markdown",
   "metadata": {},
   "source": [
    "### Temporal Pipeline"
   ]
  },
  {
   "cell_type": "code",
   "execution_count": 7,
   "metadata": {
    "code_folding": [
     1,
     7,
     18,
     29,
     33
    ],
    "collapsed": true
   },
   "outputs": [],
   "source": [
    "# custom named functions needed for temporal pipeline\n",
    "def get_diff(X):\n",
    "    X['diff_fromDate_bookingCreated'] = X['from_date'] - X['booking_created']\n",
    "    def tosec(x):\n",
    "        return x.total_seconds()\n",
    "    X['diff_fromDate_bookingCreated'] = X['diff_fromDate_bookingCreated'].apply(tosec)\n",
    "    return X\n",
    "def get_timeOfDay(timestamp):\n",
    "    hour = timestamp.hour\n",
    "    if 6 <= hour < 12:\n",
    "        return 'morning'\n",
    "    elif 12 <= hour < 18:\n",
    "        return 'afternoon'\n",
    "    elif 18 <= hour < 24:\n",
    "        return 'evening'\n",
    "    else:\n",
    "        return 'night'        \n",
    "    \n",
    "def get_season(timestamp):\n",
    "    month = timestamp.month\n",
    "    if 3 <= month < 6:\n",
    "        return 'spring'\n",
    "    if 6 <= month < 9:\n",
    "        return 'summer'\n",
    "    if 9 <= month < 12:\n",
    "        return 'fall'\n",
    "    else:\n",
    "        return 'winter'\n",
    "    \n",
    "def get_dayOfWeek(x):\n",
    "    weekDict = {0: 'Monday', 1: 'Tuesday', 2: 'Wednesday', 3: 'Thursday',\n",
    "            4: 'Friday', 5: 'Saturday', 6: 'Sunday'}\n",
    "    return weekDict[x.dayofweek]\n",
    "def replace_weird_times(x):\n",
    "    return x if x > 0 else np.nan "
   ]
  },
  {
   "cell_type": "code",
   "execution_count": 8,
   "metadata": {
    "collapsed": true
   },
   "outputs": [],
   "source": [
    "temp_pipe = Pipeline([\n",
    "    ('select_temporal_columns', pdpc.ColumnSelector(cols=temp_features)),\n",
    "    ('to_dateTime', pdpc.DataTypeTransformer(dataType='dateTime')),\n",
    "    ('diff_booking', pdpc.DFTransform(get_diff)),\n",
    "    ('get_season', pdpc.DFApply(col='from_date', resCol='from_season', func=get_season)),\n",
    "    ('get_timeOfDay', pdpc.DFApply(col='from_date', resCol='from_timeOfDay', func=get_timeOfDay)),\n",
    "    ('get_dayOfWeek', pdpc.DFApply(col='from_date', resCol='from_dayOfWeek', func=get_dayOfWeek)),\n",
    "    ('replace_weird_times', pdpc.DFApply(col='diff_fromDate_bookingCreated',\n",
    "                                         resCol='diff_fromDate_bookingCreated', func=replace_weird_times)),\n",
    "    ('fillnan_diff_booking', pdpc.DFImputer(col='diff_fromDate_bookingCreated', method='median')),\n",
    "    ('scaler', pdpc.DFScaler(scaler='StandardScaler', col='diff_fromDate_bookingCreated'))\n",
    "])"
   ]
  },
  {
   "cell_type": "markdown",
   "metadata": {},
   "source": [
    "### Distance Pipeline"
   ]
  },
  {
   "cell_type": "code",
   "execution_count": 9,
   "metadata": {
    "code_folding": [
     0
    ],
    "collapsed": true
   },
   "outputs": [],
   "source": [
    "class GetDistance(TransformerMixin):\n",
    "    \n",
    "    def __init__(self, lat1, long1, lat2, long2, resultCol, copy=True):\n",
    "        self.copy = copy\n",
    "        self.lat1 = lat1\n",
    "        self.lat2 = lat2\n",
    "        self.long1 = long1\n",
    "        self.long2 = long2\n",
    "        self.resultCol = resultCol\n",
    "        \n",
    "    # cumbersome\n",
    "    def __computeDist__(self, X):\n",
    "        X_ = X if not self.copy else X.copy()\n",
    "        return geod.Inverse(X_[self.lat1], X_[self.long1] ,\n",
    "                                    X_[self.lat2], X_[self.long2] )['s12'] / 1000\n",
    "    \n",
    "    def fit(self, X, y=None):\n",
    "        return self\n",
    "        \n",
    "    def transform(self, X):\n",
    "        X_ = X if not self.copy else X.copy()\n",
    "        X_[self.resultCol] = X_.apply(self.__computeDist__, axis=1)\n",
    "        return X_"
   ]
  },
  {
   "cell_type": "code",
   "execution_count": 10,
   "metadata": {
    "code_folding": [],
    "collapsed": true
   },
   "outputs": [],
   "source": [
    "distance_pipe = Pipeline([\n",
    "    ('select_distance_columns', pdpc.ColumnSelector(dist_features)),\n",
    "    ('get_distance', GetDistance('from_lat', 'from_long', 'to_lat', 'to_long', 'direct_distance')),\n",
    "    ('fillnan_direct_distance', pdpc.DFImputer(col='direct_distance', method='median')),\n",
    "    ('drop', pdpc.DropColumns(['from_lat','from_long','to_lat','to_long'])),\n",
    "    ('scaler', pdpc.DFScaler(scaler='StandardScaler', col='direct_distance'))\n",
    "])"
   ]
  },
  {
   "cell_type": "markdown",
   "metadata": {},
   "source": [
    "###  Pipeline for the remaining attributes"
   ]
  },
  {
   "cell_type": "code",
   "execution_count": 11,
   "metadata": {
    "collapsed": true
   },
   "outputs": [],
   "source": [
    "rem_pipe = Pipeline([\n",
    "    ('select_rem_columns', pdpc.ColumnSelector(rem_features)),\n",
    "    ('transform_to_str', pdpc.DataTypeTransformer(dataType='str'))\n",
    "])"
   ]
  },
  {
   "cell_type": "markdown",
   "metadata": {},
   "source": [
    "### combine preprocessing pipes"
   ]
  },
  {
   "cell_type": "code",
   "execution_count": 14,
   "metadata": {
    "collapsed": true
   },
   "outputs": [],
   "source": [
    "prep_pipe = Pipeline([\n",
    "    ('parallel_pipe', pdpc.DFFeatureUnion([\n",
    "            ('temp', temp_pipe),\n",
    "            ('dist', distance_pipe),\n",
    "            ('rem', rem_pipe)\n",
    "    ])),\n",
    "    ('dropCols', pdpc.DropColumns(cols=temp_features + ['direct_distance', 'diff_fromDate_bookingCreated'])),\n",
    "    ('getDummies', pdpc.DFDummyTransformer()),\n",
    "    ('addMissingRemAdd', pdpc.DFAddMissingCatCols()),\n",
    "    ])"
   ]
  },
  {
   "cell_type": "markdown",
   "metadata": {},
   "source": [
    "### test preprocessing pipe "
   ]
  },
  {
   "cell_type": "code",
   "execution_count": 16,
   "metadata": {
    "scrolled": true
   },
   "outputs": [
    {
     "data": {
      "text/html": [
       "<div>\n",
       "<style>\n",
       "    .dataframe thead tr:only-child th {\n",
       "        text-align: right;\n",
       "    }\n",
       "\n",
       "    .dataframe thead th {\n",
       "        text-align: left;\n",
       "    }\n",
       "\n",
       "    .dataframe tbody tr th {\n",
       "        vertical-align: top;\n",
       "    }\n",
       "</style>\n",
       "<table border=\"1\" class=\"dataframe\">\n",
       "  <thead>\n",
       "    <tr style=\"text-align: right;\">\n",
       "      <th></th>\n",
       "      <th>diff_fromDate_bookingCreated_scaled</th>\n",
       "      <th>direct_distance_scaled</th>\n",
       "      <th>from_area_id=1004.0</th>\n",
       "      <th>from_area_id=1005.0</th>\n",
       "      <th>from_area_id=1008.0</th>\n",
       "      <th>from_area_id=1010.0</th>\n",
       "      <th>from_area_id=1012.0</th>\n",
       "      <th>from_area_id=1013.0</th>\n",
       "      <th>from_area_id=1014.0</th>\n",
       "      <th>from_area_id=1015.0</th>\n",
       "      <th>...</th>\n",
       "      <th>from_timeOfDay=evening</th>\n",
       "      <th>from_timeOfDay=morning</th>\n",
       "      <th>from_timeOfDay=night</th>\n",
       "      <th>mobile_site_booking=0</th>\n",
       "      <th>mobile_site_booking=1</th>\n",
       "      <th>online_booking=0</th>\n",
       "      <th>online_booking=1</th>\n",
       "      <th>travel_type_id=1</th>\n",
       "      <th>travel_type_id=2</th>\n",
       "      <th>travel_type_id=3</th>\n",
       "    </tr>\n",
       "  </thead>\n",
       "  <tbody>\n",
       "    <tr>\n",
       "      <th>2109</th>\n",
       "      <td>-0.302530</td>\n",
       "      <td>2.298404</td>\n",
       "      <td>0.0</td>\n",
       "      <td>0.0</td>\n",
       "      <td>0.0</td>\n",
       "      <td>0.0</td>\n",
       "      <td>0.0</td>\n",
       "      <td>0.0</td>\n",
       "      <td>0.0</td>\n",
       "      <td>0.0</td>\n",
       "      <td>...</td>\n",
       "      <td>0.0</td>\n",
       "      <td>0.0</td>\n",
       "      <td>1.0</td>\n",
       "      <td>1.0</td>\n",
       "      <td>0.0</td>\n",
       "      <td>1.0</td>\n",
       "      <td>0.0</td>\n",
       "      <td>0.0</td>\n",
       "      <td>1.0</td>\n",
       "      <td>0.0</td>\n",
       "    </tr>\n",
       "    <tr>\n",
       "      <th>14673</th>\n",
       "      <td>0.328455</td>\n",
       "      <td>1.079044</td>\n",
       "      <td>0.0</td>\n",
       "      <td>0.0</td>\n",
       "      <td>0.0</td>\n",
       "      <td>0.0</td>\n",
       "      <td>0.0</td>\n",
       "      <td>0.0</td>\n",
       "      <td>0.0</td>\n",
       "      <td>0.0</td>\n",
       "      <td>...</td>\n",
       "      <td>0.0</td>\n",
       "      <td>1.0</td>\n",
       "      <td>0.0</td>\n",
       "      <td>1.0</td>\n",
       "      <td>0.0</td>\n",
       "      <td>0.0</td>\n",
       "      <td>1.0</td>\n",
       "      <td>0.0</td>\n",
       "      <td>1.0</td>\n",
       "      <td>0.0</td>\n",
       "    </tr>\n",
       "    <tr>\n",
       "      <th>1057</th>\n",
       "      <td>-0.333465</td>\n",
       "      <td>-0.782491</td>\n",
       "      <td>0.0</td>\n",
       "      <td>0.0</td>\n",
       "      <td>0.0</td>\n",
       "      <td>0.0</td>\n",
       "      <td>0.0</td>\n",
       "      <td>0.0</td>\n",
       "      <td>0.0</td>\n",
       "      <td>0.0</td>\n",
       "      <td>...</td>\n",
       "      <td>0.0</td>\n",
       "      <td>0.0</td>\n",
       "      <td>0.0</td>\n",
       "      <td>1.0</td>\n",
       "      <td>0.0</td>\n",
       "      <td>0.0</td>\n",
       "      <td>1.0</td>\n",
       "      <td>0.0</td>\n",
       "      <td>1.0</td>\n",
       "      <td>0.0</td>\n",
       "    </tr>\n",
       "    <tr>\n",
       "      <th>3806</th>\n",
       "      <td>-0.314797</td>\n",
       "      <td>0.130229</td>\n",
       "      <td>0.0</td>\n",
       "      <td>0.0</td>\n",
       "      <td>0.0</td>\n",
       "      <td>0.0</td>\n",
       "      <td>0.0</td>\n",
       "      <td>0.0</td>\n",
       "      <td>0.0</td>\n",
       "      <td>0.0</td>\n",
       "      <td>...</td>\n",
       "      <td>0.0</td>\n",
       "      <td>1.0</td>\n",
       "      <td>0.0</td>\n",
       "      <td>1.0</td>\n",
       "      <td>0.0</td>\n",
       "      <td>1.0</td>\n",
       "      <td>0.0</td>\n",
       "      <td>0.0</td>\n",
       "      <td>1.0</td>\n",
       "      <td>0.0</td>\n",
       "    </tr>\n",
       "    <tr>\n",
       "      <th>24149</th>\n",
       "      <td>-0.355512</td>\n",
       "      <td>-1.026255</td>\n",
       "      <td>0.0</td>\n",
       "      <td>0.0</td>\n",
       "      <td>0.0</td>\n",
       "      <td>0.0</td>\n",
       "      <td>0.0</td>\n",
       "      <td>0.0</td>\n",
       "      <td>0.0</td>\n",
       "      <td>0.0</td>\n",
       "      <td>...</td>\n",
       "      <td>0.0</td>\n",
       "      <td>0.0</td>\n",
       "      <td>0.0</td>\n",
       "      <td>1.0</td>\n",
       "      <td>0.0</td>\n",
       "      <td>1.0</td>\n",
       "      <td>0.0</td>\n",
       "      <td>0.0</td>\n",
       "      <td>1.0</td>\n",
       "      <td>0.0</td>\n",
       "    </tr>\n",
       "  </tbody>\n",
       "</table>\n",
       "<p>5 rows × 610 columns</p>\n",
       "</div>"
      ],
      "text/plain": [
       "       diff_fromDate_bookingCreated_scaled  direct_distance_scaled  \\\n",
       "2109                             -0.302530                2.298404   \n",
       "14673                             0.328455                1.079044   \n",
       "1057                             -0.333465               -0.782491   \n",
       "3806                             -0.314797                0.130229   \n",
       "24149                            -0.355512               -1.026255   \n",
       "\n",
       "       from_area_id=1004.0  from_area_id=1005.0  from_area_id=1008.0  \\\n",
       "2109                   0.0                  0.0                  0.0   \n",
       "14673                  0.0                  0.0                  0.0   \n",
       "1057                   0.0                  0.0                  0.0   \n",
       "3806                   0.0                  0.0                  0.0   \n",
       "24149                  0.0                  0.0                  0.0   \n",
       "\n",
       "       from_area_id=1010.0  from_area_id=1012.0  from_area_id=1013.0  \\\n",
       "2109                   0.0                  0.0                  0.0   \n",
       "14673                  0.0                  0.0                  0.0   \n",
       "1057                   0.0                  0.0                  0.0   \n",
       "3806                   0.0                  0.0                  0.0   \n",
       "24149                  0.0                  0.0                  0.0   \n",
       "\n",
       "       from_area_id=1014.0  from_area_id=1015.0        ...         \\\n",
       "2109                   0.0                  0.0        ...          \n",
       "14673                  0.0                  0.0        ...          \n",
       "1057                   0.0                  0.0        ...          \n",
       "3806                   0.0                  0.0        ...          \n",
       "24149                  0.0                  0.0        ...          \n",
       "\n",
       "       from_timeOfDay=evening  from_timeOfDay=morning  from_timeOfDay=night  \\\n",
       "2109                      0.0                     0.0                   1.0   \n",
       "14673                     0.0                     1.0                   0.0   \n",
       "1057                      0.0                     0.0                   0.0   \n",
       "3806                      0.0                     1.0                   0.0   \n",
       "24149                     0.0                     0.0                   0.0   \n",
       "\n",
       "       mobile_site_booking=0  mobile_site_booking=1  online_booking=0  \\\n",
       "2109                     1.0                    0.0               1.0   \n",
       "14673                    1.0                    0.0               0.0   \n",
       "1057                     1.0                    0.0               0.0   \n",
       "3806                     1.0                    0.0               1.0   \n",
       "24149                    1.0                    0.0               1.0   \n",
       "\n",
       "       online_booking=1  travel_type_id=1  travel_type_id=2  travel_type_id=3  \n",
       "2109                0.0               0.0               1.0               0.0  \n",
       "14673               1.0               0.0               1.0               0.0  \n",
       "1057                1.0               0.0               1.0               0.0  \n",
       "3806                0.0               0.0               1.0               0.0  \n",
       "24149               0.0               0.0               1.0               0.0  \n",
       "\n",
       "[5 rows x 610 columns]"
      ]
     },
     "execution_count": 16,
     "metadata": {},
     "output_type": "execute_result"
    }
   ],
   "source": [
    "prep_pipe.fit_transform(X_train, y_train).head()"
   ]
  },
  {
   "cell_type": "code",
   "execution_count": 184,
   "metadata": {
    "collapsed": true
   },
   "outputs": [],
   "source": [
    "# best params after hyperopt search\n",
    "bbc_params = {'bbc__base_estimator__learning_rate': 0.21902366660705558, 'bbc__base_estimator__max_depth': 7, 'bbc__base_estimator__min_samples_leaf': 3, 'bbc__base_estimator__min_samples_split': 3, 'bbc__base_estimator__n_estimators': 200, 'bbc__n_estimators': 100, 'bbc__n_jobs': 5} "
   ]
  },
  {
   "cell_type": "code",
   "execution_count": 187,
   "metadata": {
    "collapsed": true
   },
   "outputs": [],
   "source": [
    "# import the model: prep_pipe + balancedBag(GradientBoost)\n",
    "cab_pipe_bbc_gb = dill.load(open('cab_pipe_bbc_gb.pkl', 'rb'))\n",
    "cab_pipe_bbc_gb.set_params(**bbc_params)"
   ]
  },
  {
   "cell_type": "code",
   "execution_count": null,
   "metadata": {
    "collapsed": true
   },
   "outputs": [],
   "source": [
    "# set default pipe (without parameter tuning)\n",
    "cab_pipe_default = dill.load(open('cab_pipe_bbc_gb.pkl', 'rb'))\n",
    "bbc_params_default = {'bbc__base_estimator__n_estimators': 200, 'bbc__n_estimators': 100, 'bbc__n_jobs': 5}\n",
    "cab_pipe_default.set_params(**bbc_params)"
   ]
  },
  {
   "cell_type": "markdown",
   "metadata": {},
   "source": [
    "### Fit Models"
   ]
  },
  {
   "cell_type": "code",
   "execution_count": 189,
   "metadata": {},
   "outputs": [
    {
     "data": {
      "text/plain": [
       "Pipeline(memory=None,\n",
       "     steps=[('parallel_pipe', DFFeatureUnion(transformer_list=[('temp', Pipeline(memory=None,\n",
       "     steps=[('select_temporal_columns', ColumnSelector(cols=['from_date', 'booking_created'])), ('to_dateTime', DataTypeTransformer(cols=['from_date', 'booking_created'], copy=True,\n",
       "          dataType='dateTime'...     random_state=None, ratio='auto', replacement=False, verbose=0,\n",
       "             warm_start=False))])"
      ]
     },
     "execution_count": 189,
     "metadata": {},
     "output_type": "execute_result"
    }
   ],
   "source": [
    "cab_pipe_bbc_gb.fit(X_train, y_train)\n",
    "cab_pipe_default.fit(X_train, y_train)"
   ]
  },
  {
   "cell_type": "code",
   "execution_count": 271,
   "metadata": {
    "collapsed": true
   },
   "outputs": [],
   "source": [
    "y_pred, y_pred_proba = cab_pipe_bbc_gb.predict(X_test), cab_pipe_bbc_gb.predict_proba(X_test)\n",
    "y_pred_default, y_pred_proba_default = cab_pipe_default.predict(X_test), cab_pipe_default.predict_proba(X_test)"
   ]
  },
  {
   "cell_type": "code",
   "execution_count": 273,
   "metadata": {},
   "outputs": [
    {
     "data": {
      "text/plain": [
       "[<matplotlib.lines.Line2D at 0x7f885b166240>]"
      ]
     },
     "execution_count": 273,
     "metadata": {},
     "output_type": "execute_result"
    },
    {
     "data": {
      "text/plain": [
       "[<matplotlib.lines.Line2D at 0x7f885b1669e8>]"
      ]
     },
     "execution_count": 273,
     "metadata": {},
     "output_type": "execute_result"
    },
    {
     "data": {
      "text/plain": [
       "[<matplotlib.lines.Line2D at 0x7f885b1669b0>]"
      ]
     },
     "execution_count": 273,
     "metadata": {},
     "output_type": "execute_result"
    },
    {
     "data": {
      "text/plain": [
       "(0.0, 1.0)"
      ]
     },
     "execution_count": 273,
     "metadata": {},
     "output_type": "execute_result"
    },
    {
     "data": {
      "text/plain": [
       "(0.0, 1.0)"
      ]
     },
     "execution_count": 273,
     "metadata": {},
     "output_type": "execute_result"
    },
    {
     "data": {
      "text/plain": [
       "<matplotlib.text.Text at 0x7f885ac891d0>"
      ]
     },
     "execution_count": 273,
     "metadata": {},
     "output_type": "execute_result"
    },
    {
     "data": {
      "text/plain": [
       "<matplotlib.text.Text at 0x7f885ac95208>"
      ]
     },
     "execution_count": 273,
     "metadata": {},
     "output_type": "execute_result"
    },
    {
     "data": {
      "text/plain": [
       "<matplotlib.text.Text at 0x7f885acb4dd8>"
      ]
     },
     "execution_count": 273,
     "metadata": {},
     "output_type": "execute_result"
    },
    {
     "data": {
      "text/plain": [
       "<matplotlib.legend.Legend at 0x7f885b005358>"
      ]
     },
     "execution_count": 273,
     "metadata": {},
     "output_type": "execute_result"
    },
    {
     "data": {
      "image/png": "[encoded data removed]",
      "text/plain": [
       "<matplotlib.figure.Figure at 0x7f885b005c18>"
      ]
     },
     "metadata": {},
     "output_type": "display_data"
    }
   ],
   "source": [
    "%matplotlib inline\n",
    "# Compute fpr, tpr, thresholds and roc auc\n",
    "fpr, tpr, thresholds = roc_curve(y_test, y_pred_proba[:,1])\n",
    "fpr_default, tpr_default, thresholds_default = roc_curve(y_test, y_pred_proba_default[:,1])\n",
    "\n",
    "# are under roc curve\n",
    "roc_auc = auc(fpr,tpr)\n",
    "roc_auc_default = auc(fpr_default,tpr_default)\n",
    "\n",
    "# Plot ROC curve\n",
    "plt.plot(fpr, tpr, label='Tuned ROC curve: {}'.format(roc_auc))\n",
    "plt.plot(fpr_default, tpr_default, label='Default ROC curve: {}'.format(roc_auc_default))\n",
    "\n",
    "plt.plot([0, 1], [0, 1], 'k--')  # random predictions curve\n",
    "plt.xlim([0.0, 1.0])\n",
    "plt.ylim([0.0, 1.0])\n",
    "\n",
    "plt.xlabel('False Positive Rate or (1 - Specifity)')\n",
    "plt.ylabel('True Positive Rate or (Sensitivity)')\n",
    "\n",
    "plt.title('Receiver Operating Characteristic')\n",
    "plt.legend(loc=\"lower right\")\n",
    "\n",
    "plt.show()"
   ]
  },
  {
   "cell_type": "code",
   "execution_count": 269,
   "metadata": {
    "code_folding": [
     0
    ],
    "collapsed": true
   },
   "outputs": [],
   "source": [
    "# http://notmatthancock.github.io/2015/10/28/confusion-matrix.html\n",
    "def show_confusion_matrix(C,class_labels=['0','1']):\n",
    "    \"\"\"\n",
    "    C: ndarray, shape (2,2) as given by scikit-learn confusion_matrix function\n",
    "    class_labels: list of strings, default simply labels 0 and 1.\n",
    "\n",
    "    Draws confusion matrix with associated metrics.\n",
    "    \"\"\"\n",
    "    import matplotlib.pyplot as plt\n",
    "    import numpy as np\n",
    "    \n",
    "    assert C.shape == (2,2), \"Confusion matrix should be from binary classification only.\"\n",
    "    \n",
    "    # true negative, false positive, etc...\n",
    "    tn = C[0,0]; fp = C[0,1]; fn = C[1,0]; tp = C[1,1];\n",
    "\n",
    "    NP = fn+tp # Num positive examples\n",
    "    NN = tn+fp # Num negative examples\n",
    "    N  = NP+NN\n",
    "\n",
    "    fig = plt.figure(figsize=(8,8))\n",
    "    ax  = fig.add_subplot(111)\n",
    "    ax.imshow(C, interpolation='nearest', cmap=plt.cm.gray)\n",
    "\n",
    "    # Draw the grid boxes\n",
    "    ax.set_xlim(-0.5,2.5)\n",
    "    ax.set_ylim(2.5,-0.5)\n",
    "    ax.plot([-0.5,2.5],[0.5,0.5], '-k', lw=2)\n",
    "    ax.plot([-0.5,2.5],[1.5,1.5], '-k', lw=2)\n",
    "    ax.plot([0.5,0.5],[-0.5,2.5], '-k', lw=2)\n",
    "    ax.plot([1.5,1.5],[-0.5,2.5], '-k', lw=2)\n",
    "\n",
    "    # Set xlabels\n",
    "    ax.set_xlabel('Predicted Label', fontsize=16)\n",
    "    ax.set_xticks([0,1,2])\n",
    "    ax.set_xticklabels(class_labels + [''])\n",
    "    ax.xaxis.set_label_position('top')\n",
    "    ax.xaxis.tick_top()\n",
    "    # These coordinate might require some tinkering. Ditto for y, below.\n",
    "    ax.xaxis.set_label_coords(0.34,1.06)\n",
    "\n",
    "    # Set ylabels\n",
    "    ax.set_ylabel('True Label', fontsize=16, rotation=90)\n",
    "    ax.set_yticklabels(class_labels + [''],rotation=90)\n",
    "    ax.set_yticks([0,1,2])\n",
    "    ax.yaxis.set_label_coords(-0.09,0.65)\n",
    "\n",
    "\n",
    "    # Fill in initial metrics: tp, tn, etc...\n",
    "    ax.text(0,0,\n",
    "            'True Neg: %d\\n(Num Neg: %d)'%(tn,NN),\n",
    "            va='center',\n",
    "            ha='center',\n",
    "            bbox=dict(fc='w',boxstyle='round,pad=1'))\n",
    "\n",
    "    ax.text(0,1,\n",
    "            'False Neg: %d'%fn,\n",
    "            va='center',\n",
    "            ha='center',\n",
    "            bbox=dict(fc='w',boxstyle='round,pad=1'))\n",
    "\n",
    "    ax.text(1,0,\n",
    "            'False Pos: %d'%fp,\n",
    "            va='center',\n",
    "            ha='center',\n",
    "            bbox=dict(fc='w',boxstyle='round,pad=1'))\n",
    "\n",
    "\n",
    "    ax.text(1,1,\n",
    "            'True Pos: %d\\n(Num Pos: %d)'%(tp,NP),\n",
    "            va='center',\n",
    "            ha='center',\n",
    "            bbox=dict(fc='w',boxstyle='round,pad=1'))\n",
    "\n",
    "    # Fill in secondary metrics: accuracy, true pos rate, etc...\n",
    "    ax.text(2,0,\n",
    "            'False Pos Rate: %.2f'%(fp / (fp+tn+0.)),\n",
    "            va='center',\n",
    "            ha='center',\n",
    "            bbox=dict(fc='w',boxstyle='round,pad=1'))\n",
    "\n",
    "    ax.text(2,1,\n",
    "            'True Pos Rate: %.2f'%(tp / (tp+fn+0.)),\n",
    "            va='center',\n",
    "            ha='center',\n",
    "            bbox=dict(fc='w',boxstyle='round,pad=1'))\n",
    "\n",
    "    ax.text(2,2,\n",
    "            'Accuracy: %.2f'%((tp+tn+0.)/N),\n",
    "            va='center',\n",
    "            ha='center',\n",
    "            bbox=dict(fc='w',boxstyle='round,pad=1'))\n",
    "\n",
    "    ax.text(0,2,\n",
    "            'Neg Pre Val: %.2f'%(1-fn/(fn+tn+0.)),\n",
    "            va='center',\n",
    "            ha='center',\n",
    "            bbox=dict(fc='w',boxstyle='round,pad=1'))\n",
    "\n",
    "    ax.text(1,2,\n",
    "            'Pos Pred Val: %.2f'%(tp/(tp+fp+0.)),\n",
    "            va='center',\n",
    "            ha='center',\n",
    "            bbox=dict(fc='w',boxstyle='round,pad=1'))\n",
    "\n",
    "\n",
    "    plt.tight_layout()\n",
    "    plt.show()"
   ]
  },
  {
   "cell_type": "code",
   "execution_count": 275,
   "metadata": {},
   "outputs": [
    {
     "data": {
      "image/png": "[encoded data removed]",
      "text/plain": [
       "<matplotlib.figure.Figure at 0x7f885b54cdd8>"
      ]
     },
     "metadata": {},
     "output_type": "display_data"
    },
    {
     "data": {
      "image/png": "[encoded data removed]",
      "text/plain": [
       "<matplotlib.figure.Figure at 0x7f882bdd9940>"
      ]
     },
     "metadata": {},
     "output_type": "display_data"
    }
   ],
   "source": [
    "conf_tuned = confusion_matrix(y_pred=y_pred, y_true=y_test)\n",
    "conf_default = confusion_matrix(y_pred=y_pred_default, y_true=y_test)\n",
    "\n",
    "show_confusion_matrix(conf_default)\n",
    "show_confusion_matrix(conf_tuned)"
   ]
  },
  {
   "cell_type": "code",
   "execution_count": 285,
   "metadata": {
    "collapsed": true
   },
   "outputs": [],
   "source": [
    "# prec recall\n",
    "precision, recall, thresholds = precision_recall_curve(y_test, y_pred_proba[:,1])\n",
    "precision_default, recall_default, thresholds_default = precision_recall_curve(y_test, y_pred_proba_default[:,1])"
   ]
  },
  {
   "cell_type": "code",
   "execution_count": 290,
   "metadata": {
    "collapsed": true
   },
   "outputs": [
    {
     "data": {
      "text/plain": [
       "[<matplotlib.lines.Line2D at 0x7f885a880828>]"
      ]
     },
     "execution_count": 290,
     "metadata": {},
     "output_type": "execute_result"
    },
    {
     "data": {
      "text/plain": [
       "[<matplotlib.lines.Line2D at 0x7f885a8881d0>]"
      ]
     },
     "execution_count": 290,
     "metadata": {},
     "output_type": "execute_result"
    },
    {
     "data": {
      "image/png": "[encoded data removed]",
      "text/plain": [
       "<matplotlib.figure.Figure at 0x7f885a8fccf8>"
      ]
     },
     "metadata": {},
     "output_type": "display_data"
    }
   ],
   "source": [
    "plt.plot(recall[:-1], thresholds, label='test')\n",
    "plt.plot(precision[:-1], thresholds, label='test')"
   ]
  },
  {
   "cell_type": "markdown",
   "metadata": {},
   "source": [
    "## kaggle scores"
   ]
  },
  {
   "cell_type": "code",
   "execution_count": 299,
   "metadata": {},
   "outputs": [
    {
     "name": "stdout",
     "output_type": "stream",
     "text": [
      "Training done\n",
      "CPU times: user 2min 32s, sys: 1.52 s, total: 2min 33s\n",
      "Wall time: 31min 6s\n"
     ]
    }
   ],
   "source": [
    "%%time\n",
    "# train with the full dataset\n",
    "cab_pipe_bbc_gb.fit(X, y)\n",
    "cab_pipe_default.fit(X, y)\n",
    "print(\"Training done\")"
   ]
  },
  {
   "cell_type": "code",
   "execution_count": 300,
   "metadata": {
    "collapsed": true
   },
   "outputs": [],
   "source": [
    "X_score = pd.read_csv(\"data/Kaggle_YourCabs_score.csv\")\n",
    "myY = cab_pipe_bbc_gb.predict(X_score)\n",
    "myY_default = cab_pipe_default.predict(X_score)"
   ]
  },
  {
   "cell_type": "code",
   "execution_count": 301,
   "metadata": {
    "collapsed": true
   },
   "outputs": [],
   "source": [
    "res = pd.DataFrame({'Car_Cancellation': myY, 'id':X_score.id}, columns=['id', 'Car_Cancellation'])\n",
    "res_default = pd.DataFrame({'Car_Cancellation': myY_default, 'id':X_score.id}, columns=['id', 'Car_Cancellation'])"
   ]
  },
  {
   "cell_type": "code",
   "execution_count": 302,
   "metadata": {
    "collapsed": true
   },
   "outputs": [],
   "source": [
    "res.to_csv('my_res.csv', index=False)\n",
    "res_default.to_csv('my_res_default.csv', index=False)"
   ]
  },
  {
   "cell_type": "markdown",
   "metadata": {},
   "source": [
    "## Feature importance"
   ]
  },
  {
   "cell_type": "code",
   "execution_count": 327,
   "metadata": {},
   "outputs": [
    {
     "data": {
      "text/plain": [
       "Pipeline(memory=None,\n",
       "     steps=[('parallel_pipe', DFFeatureUnion(transformer_list=[('temp', Pipeline(memory=None,\n",
       "     steps=[('select_temporal_columns', ColumnSelector(cols=['from_date', 'booking_created'])), ('to_dateTime', DataTypeTransformer(cols=['from_date', 'booking_created'], copy=True,\n",
       "          dataType='dateTime'...      presort='auto', random_state=None, subsample=1.0, verbose=0,\n",
       "              warm_start=False))])"
      ]
     },
     "execution_count": 327,
     "metadata": {},
     "output_type": "execute_result"
    }
   ],
   "source": [
    "pipe = cab_pipe_bbc_gb.steps[:-1]\n",
    "gb = [('gb',cab_pipe_bbc_gb.steps[-1][1].base_estimator)]\n",
    "gb_pipe = Pipeline(pipe + gb)\n",
    "gb_pipe.fit(X,y)"
   ]
  },
  {
   "cell_type": "code",
   "execution_count": 330,
   "metadata": {
    "collapsed": true
   },
   "outputs": [],
   "source": [
    "forest = gb_pipe.steps[-1][1]\n",
    "importance_list = forest.feature_importances_.tolist()\n",
    "features_list = prep_pipe.transform(X_train).columns.tolist()"
   ]
  },
  {
   "cell_type": "code",
   "execution_count": 366,
   "metadata": {
    "collapsed": true
   },
   "outputs": [],
   "source": [
    "# get feature importance sorted\n",
    "def get_featureImportance(features_list, importance_list):\n",
    "    feats = {} # a dict to hold feature_name: feature_importance\n",
    "    for feature, importance in zip(features_list, importance_list):\n",
    "        feats[feature] = importance #add the name/value pair\n",
    "    importancesDF = pd.DataFrame.from_dict(feats, orient='index').rename(columns={0: 'importance'})\n",
    "    imp_list = importancesDF.index.tolist()\n",
    "    imp_set = list(set([element.split('=')[0] for element in imp_list]))\n",
    "    impDict = {}\n",
    "    for element in imp_set:\n",
    "        impDict[element] = importancesDF.filter(regex=element, axis=0).sum()\n",
    "    return pd.DataFrame.from_dict(impDict, orient='index').sort_values(by='importance',axis=0, ascending=False)"
   ]
  },
  {
   "cell_type": "code",
   "execution_count": 367,
   "metadata": {
    "collapsed": true
   },
   "outputs": [],
   "source": [
    "importanceDF = get_featureImportance(features_list, importance_list)"
   ]
  },
  {
   "cell_type": "code",
   "execution_count": 368,
   "metadata": {},
   "outputs": [
    {
     "data": {
      "text/html": [
       "<div>\n",
       "<style>\n",
       "    .dataframe thead tr:only-child th {\n",
       "        text-align: right;\n",
       "    }\n",
       "\n",
       "    .dataframe thead th {\n",
       "        text-align: left;\n",
       "    }\n",
       "\n",
       "    .dataframe tbody tr th {\n",
       "        vertical-align: top;\n",
       "    }\n",
       "</style>\n",
       "<table border=\"1\" class=\"dataframe\">\n",
       "  <thead>\n",
       "    <tr style=\"text-align: right;\">\n",
       "      <th></th>\n",
       "      <th>importance</th>\n",
       "    </tr>\n",
       "  </thead>\n",
       "  <tbody>\n",
       "    <tr>\n",
       "      <th>diff_fromDate_bookingCreated_scaled</th>\n",
       "      <td>0.276807</td>\n",
       "    </tr>\n",
       "    <tr>\n",
       "      <th>from_area_id</th>\n",
       "      <td>0.203028</td>\n",
       "    </tr>\n",
       "    <tr>\n",
       "      <th>direct_distance_scaled</th>\n",
       "      <td>0.200973</td>\n",
       "    </tr>\n",
       "    <tr>\n",
       "      <th>travel_type_id</th>\n",
       "      <td>0.067231</td>\n",
       "    </tr>\n",
       "    <tr>\n",
       "      <th>mobile_site_booking</th>\n",
       "      <td>0.035943</td>\n",
       "    </tr>\n",
       "    <tr>\n",
       "      <th>from_timeOfDay</th>\n",
       "      <td>0.030023</td>\n",
       "    </tr>\n",
       "    <tr>\n",
       "      <th>online_booking</th>\n",
       "      <td>0.020747</td>\n",
       "    </tr>\n",
       "    <tr>\n",
       "      <th>from_dayOfWeek</th>\n",
       "      <td>0.004108</td>\n",
       "    </tr>\n",
       "    <tr>\n",
       "      <th>from_season</th>\n",
       "      <td>0.001902</td>\n",
       "    </tr>\n",
       "  </tbody>\n",
       "</table>\n",
       "</div>"
      ],
      "text/plain": [
       "                                     importance\n",
       "diff_fromDate_bookingCreated_scaled    0.276807\n",
       "from_area_id                           0.203028\n",
       "direct_distance_scaled                 0.200973\n",
       "travel_type_id                         0.067231\n",
       "mobile_site_booking                    0.035943\n",
       "from_timeOfDay                         0.030023\n",
       "online_booking                         0.020747\n",
       "from_dayOfWeek                         0.004108\n",
       "from_season                            0.001902"
      ]
     },
     "execution_count": 368,
     "metadata": {},
     "output_type": "execute_result"
    },
    {
     "data": {
      "text/plain": [
       "<matplotlib.axes._subplots.AxesSubplot at 0x7f885b7e3470>"
      ]
     },
     "execution_count": 368,
     "metadata": {},
     "output_type": "execute_result"
    },
    {
     "data": {
      "image/png": "[encoded data removed]",
      "text/plain": [
       "<matplotlib.figure.Figure at 0x7f8837851a20>"
      ]
     },
     "metadata": {},
     "output_type": "display_data"
    }
   ],
   "source": [
    "importanceDF\n",
    "importanceDF.plot(kind='bar')"
   ]
  },
  {
   "cell_type": "markdown",
   "metadata": {},
   "source": [
    "### explore the features"
   ]
  },
  {
   "cell_type": "code",
   "execution_count": 374,
   "metadata": {},
   "outputs": [
    {
     "data": {
      "image/png": "[encoded data removed]",
      "text/plain": [
       "<matplotlib.figure.Figure at 0x7f8837869898>"
      ]
     },
     "metadata": {},
     "output_type": "display_data"
    }
   ],
   "source": [
    "dataDF =pd.concat([prep_pipe.transform(X), y], axis=1)\n",
    "#    ax = sns.stripplot(data=df, y=element, x='Car_Cancellation',jitter=True, color='gray')\n",
    "ax = sns.violinplot(data=dataDF, y='direct_distance_scaled', x='Car_Cancellation', inner='box')\n",
    "plt.show()"
   ]
  },
  {
   "cell_type": "code",
   "execution_count": 375,
   "metadata": {},
   "outputs": [
    {
     "name": "stdout",
     "output_type": "stream",
     "text": [
      "skewness (Schiefheit):\n"
     ]
    },
    {
     "data": {
      "text/html": [
       "<div>\n",
       "<style>\n",
       "    .dataframe thead tr:only-child th {\n",
       "        text-align: right;\n",
       "    }\n",
       "\n",
       "    .dataframe thead th {\n",
       "        text-align: left;\n",
       "    }\n",
       "\n",
       "    .dataframe tbody tr th {\n",
       "        vertical-align: top;\n",
       "    }\n",
       "</style>\n",
       "<table border=\"1\" class=\"dataframe\">\n",
       "  <thead>\n",
       "    <tr style=\"text-align: right;\">\n",
       "      <th>Car_Cancellation</th>\n",
       "      <th>0</th>\n",
       "      <th>1</th>\n",
       "    </tr>\n",
       "  </thead>\n",
       "  <tbody>\n",
       "    <tr>\n",
       "      <th>Cost_of_error</th>\n",
       "      <td>0.000000</td>\n",
       "      <td>-6.680960</td>\n",
       "    </tr>\n",
       "    <tr>\n",
       "      <th>from_area_id</th>\n",
       "      <td>0.101981</td>\n",
       "      <td>0.011442</td>\n",
       "    </tr>\n",
       "    <tr>\n",
       "      <th>from_city_id</th>\n",
       "      <td>-9.527800</td>\n",
       "      <td>0.000000</td>\n",
       "    </tr>\n",
       "    <tr>\n",
       "      <th>from_lat</th>\n",
       "      <td>1.196998</td>\n",
       "      <td>1.299525</td>\n",
       "    </tr>\n",
       "    <tr>\n",
       "      <th>from_long</th>\n",
       "      <td>-0.119677</td>\n",
       "      <td>-0.600825</td>\n",
       "    </tr>\n",
       "    <tr>\n",
       "      <th>id</th>\n",
       "      <td>0.022582</td>\n",
       "      <td>-0.374764</td>\n",
       "    </tr>\n",
       "    <tr>\n",
       "      <th>mobile_site_booking</th>\n",
       "      <td>4.733281</td>\n",
       "      <td>2.818978</td>\n",
       "    </tr>\n",
       "    <tr>\n",
       "      <th>online_booking</th>\n",
       "      <td>0.714965</td>\n",
       "      <td>-0.440933</td>\n",
       "    </tr>\n",
       "    <tr>\n",
       "      <th>package_id</th>\n",
       "      <td>1.897191</td>\n",
       "      <td>1.053949</td>\n",
       "    </tr>\n",
       "    <tr>\n",
       "      <th>to_area_id</th>\n",
       "      <td>0.536899</td>\n",
       "      <td>0.035144</td>\n",
       "    </tr>\n",
       "    <tr>\n",
       "      <th>to_city_id</th>\n",
       "      <td>1.025881</td>\n",
       "      <td>1.256235</td>\n",
       "    </tr>\n",
       "    <tr>\n",
       "      <th>to_date</th>\n",
       "      <td>-48.316878</td>\n",
       "      <td>-1.290670</td>\n",
       "    </tr>\n",
       "    <tr>\n",
       "      <th>to_lat</th>\n",
       "      <td>0.473065</td>\n",
       "      <td>1.362966</td>\n",
       "    </tr>\n",
       "    <tr>\n",
       "      <th>to_long</th>\n",
       "      <td>-0.313606</td>\n",
       "      <td>0.221176</td>\n",
       "    </tr>\n",
       "    <tr>\n",
       "      <th>travel_type_id</th>\n",
       "      <td>0.611677</td>\n",
       "      <td>2.038789</td>\n",
       "    </tr>\n",
       "    <tr>\n",
       "      <th>user_id</th>\n",
       "      <td>-0.738321</td>\n",
       "      <td>-0.936392</td>\n",
       "    </tr>\n",
       "    <tr>\n",
       "      <th>vehicle_model_id</th>\n",
       "      <td>1.628645</td>\n",
       "      <td>2.320514</td>\n",
       "    </tr>\n",
       "  </tbody>\n",
       "</table>\n",
       "</div>"
      ],
      "text/plain": [
       "Car_Cancellation             0         1\n",
       "Cost_of_error         0.000000 -6.680960\n",
       "from_area_id          0.101981  0.011442\n",
       "from_city_id         -9.527800  0.000000\n",
       "from_lat              1.196998  1.299525\n",
       "from_long            -0.119677 -0.600825\n",
       "id                    0.022582 -0.374764\n",
       "mobile_site_booking   4.733281  2.818978\n",
       "online_booking        0.714965 -0.440933\n",
       "package_id            1.897191  1.053949\n",
       "to_area_id            0.536899  0.035144\n",
       "to_city_id            1.025881  1.256235\n",
       "to_date             -48.316878 -1.290670\n",
       "to_lat                0.473065  1.362966\n",
       "to_long              -0.313606  0.221176\n",
       "travel_type_id        0.611677  2.038789\n",
       "user_id              -0.738321 -0.936392\n",
       "vehicle_model_id      1.628645  2.320514"
      ]
     },
     "execution_count": 375,
     "metadata": {},
     "output_type": "execute_result"
    }
   ],
   "source": [
    "# skewness\n",
    "print(\"skewness (Schiefheit):\")\n",
    "df.groupby('Car_Cancellation').skew().transpose()"
   ]
  },
  {
   "cell_type": "markdown",
   "metadata": {},
   "source": [
    "### analyze trials"
   ]
  },
  {
   "cell_type": "code",
   "execution_count": 376,
   "metadata": {
    "collapsed": true
   },
   "outputs": [],
   "source": [
    "trials = dill.load(open('/home/jodahr/Programs/hyper_tuning/output/my_model_gb_bbc3.hyperopt', 'rb'))"
   ]
  },
  {
   "cell_type": "code",
   "execution_count": 378,
   "metadata": {},
   "outputs": [
    {
     "data": {
      "text/plain": [
       "array([[<matplotlib.axes._subplots.AxesSubplot object at 0x7f885fb85fd0>]], dtype=object)"
      ]
     },
     "execution_count": 378,
     "metadata": {},
     "output_type": "execute_result"
    },
    {
     "data": {
      "image/png": "[encoded data removed]",
      "text/plain": [
       "<matplotlib.figure.Figure at 0x7f885fb857b8>"
      ]
     },
     "metadata": {},
     "output_type": "display_data"
    }
   ],
   "source": [
    "pd.DataFrame(trials.losses()).hist()\n",
    "plt.show()"
   ]
  },
  {
   "cell_type": "code",
   "execution_count": 399,
   "metadata": {},
   "outputs": [
    {
     "data": {
      "text/plain": [
       "<matplotlib.axes._subplots.AxesSubplot at 0x7f885bf68668>"
      ]
     },
     "execution_count": 399,
     "metadata": {},
     "output_type": "execute_result"
    },
    {
     "data": {
      "image/png": "[encoded data removed]",
      "text/plain": [
       "<matplotlib.figure.Figure at 0x7f885a7ab438>"
      ]
     },
     "metadata": {},
     "output_type": "display_data"
    }
   ],
   "source": [
    "#dict = {markers:'c'}\n",
    "pd.DataFrame(trials.losses()).plot(marker='.', linestyle='None')\n",
    "plt.show()"
   ]
  },
  {
   "cell_type": "code",
   "execution_count": 403,
   "metadata": {},
   "outputs": [
    {
     "data": {
      "text/plain": [
       "dict_values([2, 99, None, {'loss': 0.1315935961974043, 'status': 'ok'}, {'tid': 99, 'cmd': ('domain_attachment', 'FMinIter_Domain'), 'workdir': None, 'idxs': {'bbc__base_estimator__learning_rate': [99], 'bbc__base_estimator__max_depth': [99], 'bbc__base_estimator__min_samples_leaf': [99], 'bbc__base_estimator__min_samples_split': [99], 'bbc__base_estimator__n_estimators': [99], 'bbc__n_estimators': [99], 'bbc__n_jobs': [99]}, 'vals': {'bbc__base_estimator__learning_rate': [0.21902366660705558], 'bbc__base_estimator__max_depth': [6], 'bbc__base_estimator__min_samples_leaf': [2], 'bbc__base_estimator__min_samples_split': [1], 'bbc__base_estimator__n_estimators': [0], 'bbc__n_estimators': [0], 'bbc__n_jobs': [0]}}, None, None, 0, datetime.datetime(2017, 11, 10, 23, 11, 55, 952000), datetime.datetime(2017, 11, 10, 23, 34, 12, 79000)])"
      ]
     },
     "execution_count": 403,
     "metadata": {},
     "output_type": "execute_result"
    }
   ],
   "source": [
    "trials.best_trial.values()"
   ]
  },
  {
   "cell_type": "code",
   "execution_count": 414,
   "metadata": {
    "collapsed": true
   },
   "outputs": [],
   "source": [
    "#trials.idxs_vals\n",
    "#trials.idxs"
   ]
  },
  {
   "cell_type": "code",
   "execution_count": 425,
   "metadata": {
    "collapsed": true
   },
   "outputs": [],
   "source": [
    "trials.vals['loss'] = trials.losses()\n",
    "trialDict = {**trials.vals, **{'loss':trials.losses()}}"
   ]
  },
  {
   "cell_type": "code",
   "execution_count": 426,
   "metadata": {
    "collapsed": true
   },
   "outputs": [],
   "source": [
    "trialsDF = pd.DataFrame(trialDict)"
   ]
  },
  {
   "cell_type": "code",
   "execution_count": 427,
   "metadata": {},
   "outputs": [
    {
     "data": {
      "text/html": [
       "<div>\n",
       "<style>\n",
       "    .dataframe thead tr:only-child th {\n",
       "        text-align: right;\n",
       "    }\n",
       "\n",
       "    .dataframe thead th {\n",
       "        text-align: left;\n",
       "    }\n",
       "\n",
       "    .dataframe tbody tr th {\n",
       "        vertical-align: top;\n",
       "    }\n",
       "</style>\n",
       "<table border=\"1\" class=\"dataframe\">\n",
       "  <thead>\n",
       "    <tr style=\"text-align: right;\">\n",
       "      <th></th>\n",
       "      <th>bbc__base_estimator__learning_rate</th>\n",
       "      <th>bbc__base_estimator__max_depth</th>\n",
       "      <th>bbc__base_estimator__min_samples_leaf</th>\n",
       "      <th>bbc__base_estimator__min_samples_split</th>\n",
       "      <th>bbc__base_estimator__n_estimators</th>\n",
       "      <th>bbc__n_estimators</th>\n",
       "      <th>bbc__n_jobs</th>\n",
       "      <th>loss</th>\n",
       "    </tr>\n",
       "  </thead>\n",
       "  <tbody>\n",
       "    <tr>\n",
       "      <th>0</th>\n",
       "      <td>0.001801</td>\n",
       "      <td>5</td>\n",
       "      <td>4</td>\n",
       "      <td>1</td>\n",
       "      <td>0</td>\n",
       "      <td>0</td>\n",
       "      <td>0</td>\n",
       "      <td>0.160892</td>\n",
       "    </tr>\n",
       "    <tr>\n",
       "      <th>1</th>\n",
       "      <td>0.850961</td>\n",
       "      <td>4</td>\n",
       "      <td>3</td>\n",
       "      <td>2</td>\n",
       "      <td>0</td>\n",
       "      <td>0</td>\n",
       "      <td>0</td>\n",
       "      <td>0.143585</td>\n",
       "    </tr>\n",
       "    <tr>\n",
       "      <th>2</th>\n",
       "      <td>0.012065</td>\n",
       "      <td>8</td>\n",
       "      <td>0</td>\n",
       "      <td>2</td>\n",
       "      <td>0</td>\n",
       "      <td>0</td>\n",
       "      <td>0</td>\n",
       "      <td>0.144900</td>\n",
       "    </tr>\n",
       "    <tr>\n",
       "      <th>3</th>\n",
       "      <td>0.010029</td>\n",
       "      <td>2</td>\n",
       "      <td>1</td>\n",
       "      <td>4</td>\n",
       "      <td>0</td>\n",
       "      <td>0</td>\n",
       "      <td>0</td>\n",
       "      <td>0.166545</td>\n",
       "    </tr>\n",
       "    <tr>\n",
       "      <th>4</th>\n",
       "      <td>2.740852</td>\n",
       "      <td>0</td>\n",
       "      <td>4</td>\n",
       "      <td>4</td>\n",
       "      <td>0</td>\n",
       "      <td>0</td>\n",
       "      <td>0</td>\n",
       "      <td>0.722846</td>\n",
       "    </tr>\n",
       "  </tbody>\n",
       "</table>\n",
       "</div>"
      ],
      "text/plain": [
       "   bbc__base_estimator__learning_rate  bbc__base_estimator__max_depth  \\\n",
       "0                            0.001801                               5   \n",
       "1                            0.850961                               4   \n",
       "2                            0.012065                               8   \n",
       "3                            0.010029                               2   \n",
       "4                            2.740852                               0   \n",
       "\n",
       "   bbc__base_estimator__min_samples_leaf  \\\n",
       "0                                      4   \n",
       "1                                      3   \n",
       "2                                      0   \n",
       "3                                      1   \n",
       "4                                      4   \n",
       "\n",
       "   bbc__base_estimator__min_samples_split  bbc__base_estimator__n_estimators  \\\n",
       "0                                       1                                  0   \n",
       "1                                       2                                  0   \n",
       "2                                       2                                  0   \n",
       "3                                       4                                  0   \n",
       "4                                       4                                  0   \n",
       "\n",
       "   bbc__n_estimators  bbc__n_jobs      loss  \n",
       "0                  0            0  0.160892  \n",
       "1                  0            0  0.143585  \n",
       "2                  0            0  0.144900  \n",
       "3                  0            0  0.166545  \n",
       "4                  0            0  0.722846  "
      ]
     },
     "execution_count": 427,
     "metadata": {},
     "output_type": "execute_result"
    }
   ],
   "source": [
    "trialsDF.head()"
   ]
  },
  {
   "cell_type": "code",
   "execution_count": 473,
   "metadata": {},
   "outputs": [
    {
     "data": {
      "text/plain": [
       "<matplotlib.colorbar.Colorbar at 0x7f8836c4ef98>"
      ]
     },
     "execution_count": 473,
     "metadata": {},
     "output_type": "execute_result"
    },
    {
     "data": {
      "text/plain": [
       "<matplotlib.text.Text at 0x7f8836771eb8>"
      ]
     },
     "execution_count": 473,
     "metadata": {},
     "output_type": "execute_result"
    },
    {
     "data": {
      "text/plain": [
       "<matplotlib.text.Text at 0x7f8836745828>"
      ]
     },
     "execution_count": 473,
     "metadata": {},
     "output_type": "execute_result"
    },
    {
     "data": {
      "text/plain": [
       "[0.0009, 10.1, 1, 10]"
      ]
     },
     "execution_count": 473,
     "metadata": {},
     "output_type": "execute_result"
    },
    {
     "data": {
      "text/plain": [
       "<matplotlib.text.Text at 0x7f883698bb00>"
      ]
     },
     "execution_count": 473,
     "metadata": {},
     "output_type": "execute_result"
    },
    {
     "data": {
      "image/png": "[encoded data removed]",
      "text/plain": [
       "<matplotlib.figure.Figure at 0x7f88366757b8>"
      ]
     },
     "metadata": {},
     "output_type": "display_data"
    }
   ],
   "source": [
    "fig, ax = plt.subplots()\n",
    "\n",
    "sc = ax.scatter(trialsDF.bbc__base_estimator__learning_rate,\n",
    "           trialsDF.bbc__base_estimator__max_depth, c=trialsDF.loss, cmap='inferno')\n",
    "\n",
    "fig.colorbar(sc, ax=ax)\n",
    "#ax.set_aspect(\"equal\")\n",
    "ax.set_xscale('log')\n",
    "\n",
    "plt.xlabel('learning_rate')\n",
    "plt.ylabel('max_depth')\n",
    "ax.set_autoscale_on(False)\n",
    "ax.axis([0.0009, 10.1, 1, 10])\n",
    "plt.title('loss')\n",
    "plt.show()"
   ]
  },
  {
   "cell_type": "markdown",
   "metadata": {},
   "source": [
    "### kaggle result screenshots\n",
    "\n",
    "![alt text](kaggle1.png \"Logo Title Text 1\")\n",
    "![alt text](kaggle2.png \"Logo Title Text 1\")\n",
    "![alt text](kaggle3.png \"Logo Title Text 1\")\n"
   ]
  },
  {
   "cell_type": "markdown",
   "metadata": {},
   "source": [
    "### ideas for the future\n",
    "\n",
    "1. stacking with brew\n",
    "2. robust scaler to take care of outliers\n",
    "3. voting classifier\n",
    "4. better features"
   ]
  }
 ],
 "metadata": {
  "kernelspec": {
   "display_name": "Python 3",
   "language": "python",
   "name": "python3"
  },
  "language_info": {
   "codemirror_mode": {
    "name": "ipython",
    "version": 3
   },
   "file_extension": ".py",
   "mimetype": "text/x-python",
   "name": "python",
   "nbconvert_exporter": "python",
   "pygments_lexer": "ipython3",
   "version": "3.6.1"
  }
 },
 "nbformat": 4,
 "nbformat_minor": 2
}
